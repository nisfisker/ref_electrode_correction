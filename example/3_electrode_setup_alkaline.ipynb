{
 "cells": [
  {
   "cell_type": "markdown",
   "metadata": {},
   "source": [
    "This notebook will show how to calibrate a Normal Hydrogen reference Electrode (NHE) in alkaline environment (pH larger than 8)."
   ]
  },
  {
   "cell_type": "code",
   "execution_count": null,
   "metadata": {},
   "outputs": [],
   "source": [
    "import pandas as pd\n"
   ]
  },
  {
   "cell_type": "markdown",
   "metadata": {},
   "source": [
    "Now it is time to load the data. This repository contains a .csv with data from a Cyclic Voltammetry scan of platinum wire vs. platinum wire with a NHE as reference electrode, performed in 1M KOH at room temperature. Ph = 14."
   ]
  },
  {
   "cell_type": "markdown",
   "metadata": {
    "tags": [
     "parameters"
    ]
   },
   "source": [
    "The parameters of the CV scan was:\n",
    "    init_voltage=0.45, # V\n",
    "    final_voltage=0.45, # V\n",
    "    apex1=1.4, # V\n",
    "    apex2=0, # V\n",
    "    stepsize=0.001, # Resolution in Volts\n",
    "    scanrate=1, # V/s\n",
    "    cycles=20, # We will use scan cycle 19"
   ]
  },
  {
   "cell_type": "code",
   "execution_count": null,
   "metadata": {},
   "outputs": [],
   "source": [
    "# Load the potentiostat data from .csv file with headers\n",
    "csv_file_path = 'data.csv'\n",
    "df_pt = pd.read_csv(csv_file_path, header=0)"
   ]
  },
  {
   "cell_type": "code",
   "execution_count": null,
   "metadata": {},
   "outputs": [],
   "source": [
    "# Define the name of the columns containing the current (I) and potential (V) data\n",
    "current_column = 'Current (A)'\n",
    "potential_column = 'Potential (V)'"
   ]
  },
  {
   "cell_type": "code",
   "execution_count": null,
   "metadata": {},
   "outputs": [],
   "source": [
    "def get_platinum_potential(df_pt: pd.DataFrame, ohmic_resistance: float):\n",
    "    \"\"\"Measure the potential of the platinum electrode\n",
    "\n",
    "    Args:\n",
    "        ohmic_resistance (float): Ohmic resistance of the platinum electrode\n",
    "\n",
    "    Returns:\n",
    "        df_pt_smoothed (pd.DataFrame): Smoothed data of the platinum electrode\n",
    "        pt_peak_potential_ohmic_corrected (float): Peak potential of the platinum electrode\n",
    "        df_pt (pd.DataFrame): Original data of the platinum electrode\n",
    "    \"\"\"\n",
    "\n",
    "    # Set column headers\n",
    "    df_pt = set_column_headers_cv(df_pt)\n",
    "    logging.debug(f\"df_pt: {df_pt.to_string}\")\n",
    "\n",
    "    # Correct for ohmic resistance\n",
    "    df_pt = correct_for_ohmic_resistance(df_pt, ohmic_resistance, OHMIC_CORRECTION_FACTOR)\n",
    "\n",
    "    # Select part of the data\n",
    "    df_pt_filtered = filter_data(\n",
    "        df_pt,\n",
    "        lower_potential=0.65,\n",
    "        upper_potential=1.2,  # It is cut further in the smoothing function\n",
    "        first_cycle=19,\n",
    "        last_cycle=19,\n",
    "    )\n",
    "    logging.debug(f\"df_pt: {df_pt_filtered.to_string}\")\n",
    "\n",
    "    # Smooth data\n",
    "    # df_pt_smoothed, pt_peak_potential_ohmic_corrected = smooth_data_lowess(df_pt_filtered)\n",
    "    df_pt_smoothed, pt_peak_potential_ohmic_corrected = smooth_data_savitzky_golay(df_pt_filtered)\n",
    "    logging.debug(f\"pt_peak_potential_ohmic_corrected: {pt_peak_potential_ohmic_corrected}\")\n",
    "    logging.debug(f\"df_pt_smoothed: {df_pt_smoothed.to_string}\")\n",
    "\n",
    "    # Give original a name in the column \"Category\"\n",
    "    df_pt[\"Category\"] = \"Measurement\"\n",
    "\n",
    "    # Merge data\n",
    "    # logging.debug(\"Merging smoothed CV data and original \")\n",
    "    # df_merged = pd.concat([df_pt, df_pt_smoothed], ignore_index=True)\n",
    "\n",
    "    return df_pt_smoothed, pt_peak_potential_ohmic_corrected, df_pt"
   ]
  }
 ],
 "metadata": {
  "kernelspec": {
   "display_name": "electrode_correction",
   "language": "python",
   "name": "python3"
  },
  "language_info": {
   "name": "python",
   "version": "3.12.3"
  }
 },
 "nbformat": 4,
 "nbformat_minor": 2
}
